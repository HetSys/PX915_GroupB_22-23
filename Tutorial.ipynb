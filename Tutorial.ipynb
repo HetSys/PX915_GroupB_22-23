{
 "cells": [
  {
   "attachments": {},
   "cell_type": "markdown",
   "id": "2931370c",
   "metadata": {},
   "source": [
    "# Tutorial"
   ]
  },
  {
   "attachments": {},
   "cell_type": "markdown",
   "id": "5e757995",
   "metadata": {},
   "source": [
    "This is a tutorial for using SPAMS - the Single Particle Model Solver.\n",
    "\n",
    "For more advanced features please see the full documentation.\n",
    "\n",
    "**Please note:** In this notebook, code to be run in the command line is preceded by an exclamation mark - this is not needed if running the program outside of this notebook."
   ]
  },
  {
   "cell_type": "code",
   "execution_count": 1,
   "id": "741c3baa",
   "metadata": {},
   "outputs": [],
   "source": [
    "# modules needed for tutorial\n",
    "import user_input_mod as UI\n",
    "import plotter\n",
    "import sys"
   ]
  },
  {
   "attachments": {},
   "cell_type": "markdown",
   "id": "cbe9f0b3",
   "metadata": {},
   "source": [
    "## Dependencies"
   ]
  },
  {
   "attachments": {},
   "cell_type": "markdown",
   "id": "152811fb",
   "metadata": {},
   "source": [
    "*If you have read the dependencies section of the readme on github you can skip this section!*\n",
    "\n",
    "In order to run the code (and this notebook), you will need to ensure you have the following installed:\n",
    "\n",
    "- intel/2017.4.196-GCC-6.4.0-2.28\n",
    "- impi/2017.3.196 imkl/2017.3.196\n",
    "- imkl/2017.3.196\n",
    "- netCDF-Fortran/4.4.4\n",
    "- GCC/10.2.0\n",
    "- Python/3.8.6\n",
    "- numpy\n",
    "- netCDF4\n",
    "- matplotlib\n",
    "\n",
    "\n",
    "For an scrtp managed system the following procedure will ensure correct dependendcies are installed:\n",
    "\n",
    "\n",
    "    module purge; module load intel/2017.4.196-GCC-6.4.0-2.28  impi/2017.3.196 imkl/2017.3.196 netCDF-Fortran/4.4.4 GCC/10.2.0 Python/3.8.6\n",
    "    pip3 install numpy netCDF4 Matplotlib\n"
   ]
  },
  {
   "attachments": {},
   "cell_type": "markdown",
   "id": "1161615c",
   "metadata": {},
   "source": [
    "## Installing the code (downloading from git)"
   ]
  },
  {
   "attachments": {},
   "cell_type": "markdown",
   "id": "3e18964e",
   "metadata": {},
   "source": [
    "To install SPAMS, navigate to the directory in your file system where you would like to download it, and use the following command:\n",
    "\n",
    "    git clone https://github.com/HetSys/PX915_GroupB_22-23"
   ]
  },
  {
   "attachments": {},
   "cell_type": "markdown",
   "id": "119919ec",
   "metadata": {},
   "source": [
    "## Running the solver"
   ]
  },
  {
   "attachments": {},
   "cell_type": "markdown",
   "id": "dc6c99bc",
   "metadata": {},
   "source": [
    "The first time you use the program after downloading it from github, you will need to compile it. This can be done by navigating to the main program directory and using the make command."
   ]
  },
  {
   "cell_type": "code",
   "execution_count": 2,
   "id": "48f678f2",
   "metadata": {},
   "outputs": [
    {
     "name": "stdout",
     "output_type": "stream",
     "text": [
      "make: `finite_diff_solver' is up to date.\r\n"
     ]
    }
   ],
   "source": [
    "! make"
   ]
  },
  {
   "attachments": {},
   "cell_type": "markdown",
   "id": "1ddcb123",
   "metadata": {},
   "source": [
    "To run the program enter the following command:"
   ]
  },
  {
   "cell_type": "code",
   "execution_count": 3,
   "id": "0c1f75df",
   "metadata": {},
   "outputs": [
    {
     "name": "stdout",
     "output_type": "stream",
     "text": [
      "set MKL_NUM_THREADS to 1\n",
      "User input successful, calling solver...\n",
      " Success writing output file, user_input_output.nc                              \n",
      "     \n",
      "\n",
      "Solver executed successfully, plotting output...\n"
     ]
    }
   ],
   "source": [
    "! python3 user_input.py"
   ]
  },
  {
   "attachments": {},
   "cell_type": "markdown",
   "id": "025b87c1",
   "metadata": {},
   "source": [
    "## A Simple Input File"
   ]
  },
  {
   "attachments": {},
   "cell_type": "markdown",
   "id": "23d6d998",
   "metadata": {},
   "source": [
    "User input can be provided to the solver in two ways: by passing a simple input file containing a set of parameters or by passing a checkpoint file containing the state of a previous run at an intermediate timestep. The following are instructions to produce a simple input file for a half-cell model run in serial.\n",
    "\n",
    "In order to use solver parameters specific to your system, you will need to edit the parameter values found in the user input file.\n",
    "\n",
    "In the main directory locate the file called 'user_input.py' and open it with your preferred text editor.\n",
    "\n",
    "Here, we will go through the main parts of this input file line by line."
   ]
  },
  {
   "attachments": {},
   "cell_type": "markdown",
   "id": "edd220af",
   "metadata": {},
   "source": [
    "### Input File Name"
   ]
  },
  {
   "attachments": {},
   "cell_type": "markdown",
   "id": "36735f82",
   "metadata": {},
   "source": [
    "In order to produce a simple input file, 'checkpoint' should be set to 'False'.\n",
    "\n",
    "The default name for the input file is 'user_input', this can be changed if desired. You should not add a file extension, and there is a characters limit of 50."
   ]
  },
  {
   "cell_type": "code",
   "execution_count": 4,
   "id": "cef968c0",
   "metadata": {},
   "outputs": [],
   "source": [
    "# Select input file: checkpoint file (True) or user input parameters (False).\n",
    "# Enter the filename of desired checkpoint file or the desired name of the file containing user input parameters.\n",
    "checkpoint = False\n",
    "solver_input_filename = 'user_input'"
   ]
  },
  {
   "attachments": {},
   "cell_type": "markdown",
   "id": "2af1b8e5",
   "metadata": {},
   "source": [
    "### Input Parameters \n",
    "\n",
    "Below, is a list of all available input parameters. Default values are provided for parameters that do not change between the positive and negative electrodes."
   ]
  },
  {
   "attachments": {},
   "cell_type": "markdown",
   "id": "8a0a19c5",
   "metadata": {},
   "source": [
    "- **tsteps**: The total number of timesteps for which the simulation is run. This must be an integer value greater than 0 (default = 100). \n",
    "*Do not change this if reading iapp from file.*\n",
    "\n",
    "- **dt**: The size of the timestep size in seconds. This must be a float with a value greater than 0 (default = 0.1).\n",
    "\n",
    "- **n**: The number of spatial nodes over which the simulation is run. This must be an integer value between 100 and 4000 (default = 1000).\n",
    "\n",
    "- **c0**: Sets the initial concentration in mol m<sup>-3</sup>, This must be a float with a value greater than 0 (default = 1000.0).\n",
    "\n",
    "- **D**: The diffusion constant in m<sup>2</sup> s<sup>-1</sup>. This must be a float.\n",
    "\n",
    "- **R**: The radius of the sphere used in the SPM in m. This must be a float with a value greater than 0.\n",
    "\n",
    "- **a**: Particle surface area per unit volume (m<sup>-1</sup>). This must be a float with a value greater than or equal to 0.\n",
    "\n",
    "- **L**: Electrode thickness in meters. This must be a float with a value greater than or equal to 0.\n",
    "\n",
    "- **iapp**: Applied current density in A m<sup>2</sup>. This must be a 1D array of floats of length tsteps. The default sets a constant current density of 0.73*10<sup>-3</sup>.\n",
    "\n",
    "- **iapp_label**: Labels the type of applied current density, e.g. constant or from file string.\n",
    "\n",
    "- **electrode_charge**: Label of electrode charge as positive or negative. (default = p for positive electrode, n for negative electrode)."
   ]
  },
  {
   "attachments": {},
   "cell_type": "markdown",
   "id": "a3c72bef",
   "metadata": {},
   "source": [
    "### Setting parameters"
   ]
  },
  {
   "attachments": {},
   "cell_type": "markdown",
   "id": "e38a9c73",
   "metadata": {},
   "source": [
    "For setting system parameters there are two main options:\n",
    "\n",
    "1. You can use the default parameters for a positive or negative electrode by calling UI.set_defaults_pos() or UI.set_defaults_neg()."
   ]
  },
  {
   "cell_type": "code",
   "execution_count": 5,
   "id": "85f75c1e",
   "metadata": {},
   "outputs": [],
   "source": [
    "# Import default values\n",
    "tsteps, dt, n, c0, D, R, a, L, iapp, iapp_label, electrode_charge = UI.set_defaults_pos()"
   ]
  },
  {
   "attachments": {},
   "cell_type": "markdown",
   "id": "6b17d573",
   "metadata": {},
   "source": [
    "The default values for parameters D, R, a, and L for positive and negative electrodes are taken from Chen et al. 2020, https://doi.org/10.1149/1945-7111/ab9050. "
   ]
  },
  {
   "attachments": {},
   "cell_type": "markdown",
   "id": "ff6035d8",
   "metadata": {},
   "source": [
    "2. You can manually set each of the parameters. \n",
    "\n",
    "    The block of code below can be used in place of importing the default values."
   ]
  },
  {
   "cell_type": "code",
   "execution_count": 6,
   "id": "b43cf5ac",
   "metadata": {},
   "outputs": [],
   "source": [
    "# Number of timesteps, integer, greater than 0. Do not change if read iapp from file.\n",
    "tsteps = 100\n",
    "# Timestep size (s), real, greater than 0\n",
    "dt = 0.1\n",
    "# Number of spatial nodes, integer, between 100 and 4000.\n",
    "n = 1000\n",
    "# Initial concentration (mol m**-3), real, positive\n",
    "c0 = 1000.0\n",
    "# Diffusion coefficient (m**2 s**-1), real\n",
    "D = 4.0e-15\n",
    "# Width of block (m), real, greater than 0\n",
    "R = 5.86e-6\n",
    "# Particle surface area per unit volume (m**-1), real, greater than 0\n",
    "a = 3.40e5\n",
    "# Electrode thickness (m), real, greater than 0\n",
    "L = 75.6e-6"
   ]
  },
  {
   "attachments": {},
   "cell_type": "markdown",
   "id": "00a3d666",
   "metadata": {},
   "source": [
    "#### Applying current"
   ]
  },
  {
   "attachments": {},
   "cell_type": "markdown",
   "id": "290f8d1f",
   "metadata": {},
   "source": [
    "For varying the applied current density (i<sub>app</sub>) there are the following additional options:\n",
    "\n",
    "1. You can set a constant value for current density, 'iapp_const', using the code below.\n"
   ]
  },
  {
   "cell_type": "code",
   "execution_count": 7,
   "id": "8445591c",
   "metadata": {},
   "outputs": [],
   "source": [
    "# Constant current - set iapp_const to a constant float value.\n",
    "iapp_const = 0.73*10**(-3)\n",
    "iapp, iapp_label = UI.iapp_constant_setup(tsteps, iapp_const)"
   ]
  },
  {
   "attachments": {},
   "cell_type": "markdown",
   "id": "8a71428c",
   "metadata": {},
   "source": [
    "2. You can set a stepped current density, 'iapp_steps', from a 2D array of values and timesteps using the code below."
   ]
  },
  {
   "cell_type": "code",
   "execution_count": 8,
   "id": "bde7d071",
   "metadata": {},
   "outputs": [],
   "source": [
    "# Step function - create 2D array of step values and integer timesteps starting at timestep 0\n",
    "iapp_steps = [[0.73*10**(-3), 0], [-0.73*10**(-3), int(tsteps/4)], [0.73*10**(-3), int(tsteps/2)]]\n",
    "iapp, iapp_label = UI.iapp_step_setup(tsteps, iapp_steps)"
   ]
  },
  {
   "attachments": {},
   "cell_type": "markdown",
   "id": "858dd6b9",
   "metadata": {},
   "source": [
    "3. The i<sub>app</sub> values can be read in from a csv file stored in the variable 'iapp_filename'.\n",
    "(_This code block is provided as an example and will not run in this tutorial._)"
   ]
  },
  {
   "cell_type": "code",
   "execution_count": 9,
   "id": "46c23118",
   "metadata": {},
   "outputs": [
    {
     "ename": "FileNotFoundError",
     "evalue": "[Errno 2] No such file or directory: 'example.csv'",
     "output_type": "error",
     "traceback": [
      "\u001b[0;31m---------------------------------------------------------------------------\u001b[0m",
      "\u001b[0;31mFileNotFoundError\u001b[0m                         Traceback (most recent call last)",
      "Cell \u001b[0;32mIn [9], line 3\u001b[0m\n\u001b[1;32m      1\u001b[0m \u001b[38;5;66;03m# Read in applied current density from csv file\u001b[39;00m\n\u001b[1;32m      2\u001b[0m iapp_filename \u001b[38;5;241m=\u001b[39m \u001b[38;5;124m'\u001b[39m\u001b[38;5;124mexample.csv\u001b[39m\u001b[38;5;124m'\u001b[39m\n\u001b[0;32m----> 3\u001b[0m iapp, iapp_label, tsteps \u001b[38;5;241m=\u001b[39m UI\u001b[38;5;241m.\u001b[39miapp_read_csv(iapp_filename)\n",
      "File \u001b[0;32m~/PX915_GroupB_22-23/user_input_mod.py:32\u001b[0m, in \u001b[0;36miapp_read_csv\u001b[0;34m(filename)\u001b[0m\n\u001b[1;32m     17\u001b[0m \u001b[38;5;124;03m'''!@brief Reads in the applied current density 'iapp' from a csv file provided by user.\u001b[39;00m\n\u001b[1;32m     18\u001b[0m \n\u001b[1;32m     19\u001b[0m \u001b[38;5;124;03m@param[in] filename Name of the csv file containing iapp as Time, Current density.\u001b[39;00m\n\u001b[0;32m   (...)\u001b[0m\n\u001b[1;32m     28\u001b[0m \u001b[38;5;124;03m4. Define tsteps and the iapp_label.\u001b[39;00m\n\u001b[1;32m     29\u001b[0m \u001b[38;5;124;03m'''\u001b[39;00m\n\u001b[1;32m     31\u001b[0m \u001b[38;5;66;03m# Read in csv file\u001b[39;00m\n\u001b[0;32m---> 32\u001b[0m \u001b[38;5;28;01mwith\u001b[39;00m \u001b[38;5;28;43mopen\u001b[39;49m\u001b[43m(\u001b[49m\u001b[43mfilename\u001b[49m\u001b[43m,\u001b[49m\u001b[43m \u001b[49m\u001b[38;5;124;43m'\u001b[39;49m\u001b[38;5;124;43mr\u001b[39;49m\u001b[38;5;124;43m'\u001b[39;49m\u001b[43m)\u001b[49m \u001b[38;5;28;01mas\u001b[39;00m iapp_file:\n\u001b[1;32m     33\u001b[0m     iapp_all \u001b[38;5;241m=\u001b[39m iapp_file\u001b[38;5;241m.\u001b[39mread()\n\u001b[1;32m     34\u001b[0m iapp_file\u001b[38;5;241m.\u001b[39mclose()\n",
      "\u001b[0;31mFileNotFoundError\u001b[0m: [Errno 2] No such file or directory: 'example.csv'"
     ]
    }
   ],
   "source": [
    "# Read in applied current density from csv file\n",
    "iapp_filename = 'example.csv'\n",
    "iapp, iapp_label, tsteps = UI.iapp_read_csv(iapp_filename)"
   ]
  },
  {
   "attachments": {},
   "cell_type": "markdown",
   "id": "586f9baa",
   "metadata": {},
   "source": [
    "4. A final option is to manually set the i<sub>app</sub> values,\n",
    "(i<sub>app</sub> must be an array of floats with a length of tsteps.)"
   ]
  },
  {
   "cell_type": "code",
   "execution_count": null,
   "id": "1248d1f8",
   "metadata": {},
   "outputs": [],
   "source": [
    "###### Manually set up applied current ######\n",
    "### Applied current (A m**2), real array of length tsteps"
   ]
  },
  {
   "attachments": {},
   "cell_type": "markdown",
   "id": "78db0288",
   "metadata": {},
   "source": [
    "All input parameters should be set above the line:"
   ]
  },
  {
   "cell_type": "code",
   "execution_count": null,
   "id": "84490e42",
   "metadata": {},
   "outputs": [],
   "source": [
    "######### END SET VALUES #########"
   ]
  },
  {
   "attachments": {},
   "cell_type": "markdown",
   "id": "a13f8257",
   "metadata": {},
   "source": [
    "The code following this line in 'user_input.py' does not require editing by the user. This code validates the user input parameters, writes them to file, and calls the solver and plotter."
   ]
  },
  {
   "attachments": {},
   "cell_type": "markdown",
   "id": "b76b5bb2",
   "metadata": {},
   "source": [
    "## Visualising Results"
   ]
  },
  {
   "attachments": {},
   "cell_type": "markdown",
   "id": "f6d1764c",
   "metadata": {},
   "source": [
    "When the solver is run, it produces plots that are saved in the main directory. The plots produced are:\n",
    "\n",
    "1. An animation showing the concentration of lithium as a function of time and space. This will be saved as 'concentration_animation.gif' and should look similar to the animation shown here.\n",
    "\n",
    "![animation](example_plots/concentration_animation.gif)"
   ]
  },
  {
   "attachments": {},
   "cell_type": "markdown",
   "id": "d17d17d6",
   "metadata": {},
   "source": [
    "2. A plot of the concentration profile at the end of the simulation, available as 'final_state.png'. An example is shown here.\n",
    "\n",
    "![conc plot](example_plots/final_state.png)"
   ]
  },
  {
   "attachments": {},
   "cell_type": "markdown",
   "id": "494d3788",
   "metadata": {},
   "source": [
    "3. Plots of both voltage and applied current over time. These are saved to the same file called 'Voltage Current Plot.png'.\n",
    "\n",
    "![voltage current](example_plots/Voltage%20Current%20Plot.png)"
   ]
  },
  {
   "attachments": {},
   "cell_type": "markdown",
   "id": "37357f09",
   "metadata": {},
   "source": [
    "## Checkpointing"
   ]
  },
  {
   "attachments": {},
   "cell_type": "markdown",
   "id": "4d42c919",
   "metadata": {},
   "source": [
    "When the solver is run, checkpoint files are produced containing all of the user input parameters and the state of the system at an intermediate timestep of the simulation.\n",
    "\n",
    "The solver can be run by passing one of these checkpoint files. This will continue the run from the timestep at which the checkpoint was recorded.\n",
    "\n",
    "To do so, 'checkpoint' should be set to 'True' and the name of the desired checkpoint file should be passed to 'solver_input_filename'. The code can then be run as usual.\n",
    "\n",
    "(_This code block is provided as an example and will not run in this tutorial._)"
   ]
  },
  {
   "cell_type": "code",
   "execution_count": null,
   "id": "d4381db8",
   "metadata": {},
   "outputs": [],
   "source": [
    "# Select input file: checkpoint file (True) or user input parameters (False).\n",
    "# Enter the filename of desired checkpoint file or the desired name of the file containing user input parameters.\n",
    "checkpoint = True\n",
    "solver_input_filename = 'checkpoints_user_input/example_checkpoint.nc'"
   ]
  },
  {
   "attachments": {},
   "cell_type": "markdown",
   "id": "a1bb7ff0",
   "metadata": {},
   "source": [
    "By default, checkpoint files are produced at intervals equivalent to 10% of the total timesteps.\n",
    "\n",
    "The number of checkpoint files produced in a run can be changed by editing 'finite_diff_solver.f90'. Locate the call to the subroutine 'write checkpoint'. The subroutine will write a checkpoint file every 'freq' timesteps, which by default is 10% of tsteps. This can be changed by adding freq to the end of the call, as demonstrated below for 20 timesteps.\n",
    "\n",
    "`CALL write_checkpoint(tstep, tsteps, dt, n, c, D, R, a_small, L, iapp, electrode_charge, cstorage, filename, 20)`"
   ]
  },
  {
   "attachments": {},
   "cell_type": "markdown",
   "id": "643538bd",
   "metadata": {},
   "source": [
    "# Advanced Features"
   ]
  },
  {
   "attachments": {},
   "cell_type": "markdown",
   "id": "e5614545",
   "metadata": {},
   "source": [
    "In addition to the basic half single particle model, the program has several additional features:"
   ]
  },
  {
   "attachments": {},
   "cell_type": "markdown",
   "id": "c83c7a57",
   "metadata": {},
   "source": [
    "### Output Errors to file\n",
    "\n",
    "The messages output to terminal by the solver can be output to a file called 'stdout.txt' by uncommenting the following line at the top of 'user_input.py':"
   ]
  },
  {
   "cell_type": "code",
   "execution_count": 10,
   "id": "91620dc8",
   "metadata": {},
   "outputs": [],
   "source": [
    "# The stdout (command line output) can be output to a file. Uncomment the line below to use this option.\n",
    "# sys.stdout = open('stdout.txt', 'w')"
   ]
  },
  {
   "attachments": {},
   "cell_type": "markdown",
   "id": "ffe5d494",
   "metadata": {},
   "source": [
    "### Parallelism - Basic\n",
    "\n",
    "Basic parallelism can be set up in the solver by passing an optional argument 'nprocs', as shown in the code below. By default, nprocs is set to 1. \n",
    "The number passed to 'nprocs' is the maximum number of processors that the user would like to use when running the code. The solver will decide how many threads to use automatically in order to maximise the runtime on the number of processors provided."
   ]
  },
  {
   "cell_type": "code",
   "execution_count": null,
   "id": "d1e05918",
   "metadata": {},
   "outputs": [],
   "source": [
    "# Call fortran solver\n",
    "UI.call_solver(solver_input_filename, checkpoint, nprocs=4)"
   ]
  },
  {
   "attachments": {},
   "cell_type": "markdown",
   "id": "cf75939b",
   "metadata": {},
   "source": [
    "### Parallelism - Full Battery Simulation"
   ]
  },
  {
   "attachments": {},
   "cell_type": "markdown",
   "id": "af3378e8",
   "metadata": {},
   "source": [
    "When running a simulation of a full battery, both halves can be run in parallel as seperate non-communicating processes. This is done automatically for you by the solver, depending on how many processors you specify in the function call.\n",
    "\n",
    "A example script to call a simple full cell simulation is provided in 'unit_test.py'.\n",
    "Specifically, calling a full battery simulation uses the following line:\n",
    "\n",
    "`UI.full_battery_simulation(output_filename_positive,output_filename_negative,nprocs=4)`\n",
    "\n",
    "Note that:\n",
    "- If nprocs = 1, the simulation will run in serial\n",
    "- If nprocs = 2, the simulation will split the cell into two seperate parallel processes (one for anode and one for cathode)\n",
    "- Any further increases on nprocs provided will lead to multi-threading in the matrix solve through the environment variable MKL_NUM_THREADS with the intel math kernel library. The program decides the optimum strategy of how to do this for you."
   ]
  },
  {
   "attachments": {},
   "cell_type": "markdown",
   "id": "83964b84",
   "metadata": {},
   "source": [
    "### Parallelism - Half cell GITT simulation"
   ]
  },
  {
   "attachments": {},
   "cell_type": "markdown",
   "id": "70414cee",
   "metadata": {},
   "source": [
    "A GITT test (Galvanostatic Intermittent Titration Technique) is a type of test which provides a series of steps of current density to a cell, with long rests of no current density in between to allow for the concentration profile to even out. It is possible to calculate the concentration removed in each step prior to the simulation running and subsequently if the rest time is long enough, it is possible to know the initial concentration value for each seperate current step. This means that each current step can be run as a seperate instance of the solver on seperate processors, and then stitched back together after, allowing for perfect parallelism.\n",
    "\n",
    "A script to run a Half cell GITT simulation is provided in 'user_input_parallel_simulation.py'. Note that you can provide any number of processors (nprocs), when calling the solver function line (below) and the code will decide automatically the correct number of threads to use to minimise code runtime, given the number of GITT current steps that are being applied.\n",
    "\n",
    "`UI.GITT_half_cell(output_filename,nprocs,currents,start_times,run_times,wait_times,n,params)`\n",
    "\n",
    "\n",
    "\n",
    "*It should be noted that before running the solver in parallel, the user should make sure they are familiar with using a simple input file for a half-cell model run in serial as the scripts are largely similar.*"
   ]
  },
  {
   "attachments": {},
   "cell_type": "markdown",
   "id": "cb19eb08",
   "metadata": {},
   "source": [
    "### Parallelism - Full Battery GITT test"
   ]
  },
  {
   "attachments": {},
   "cell_type": "markdown",
   "id": "6c353965",
   "metadata": {},
   "source": [
    "A script is also provided to run a GITT test in parallel with a full battery. This scripts outputs a gif animation of the applied current and voltage with time along side the concentrations in the anode and cathode. See 'user_input_full_battery_GITT.py'.\n",
    "\n",
    "*It should be noted that before running the full battery solver, the user should make sure they are familiar with using a simple input file for a half-cell model run in serial as the scripts are largely similar.*"
   ]
  },
  {
   "attachments": {},
   "cell_type": "markdown",
   "id": "03fcf731",
   "metadata": {},
   "source": [
    "### Uncertainty Quantification"
   ]
  },
  {
   "attachments": {},
   "cell_type": "markdown",
   "id": "3fd8cd70",
   "metadata": {},
   "source": [
    "The program provides scripts for performing both sensitivity analysis and uncertainty propagation. These can be run using the commands:\n",
    "\n",
    "    python3 sensitivity_analysis.py\n",
    "\n",
    "    python3 Uncertainty_Propagation.py\n",
    "    \n",
    "**Note** This will require loading of additional modules. Alternatively, the UQ results can be found in the developer documentation."
   ]
  },
  {
   "attachments": {},
   "cell_type": "markdown",
   "id": "9990df6e",
   "metadata": {},
   "source": [
    "### Appending a Run\n",
    "\n",
    "The 'checkpointing' branch of the github repository contains additional features to continue a run from an output file using a new user input parameter file with additional applied current 'iapp' steps. The 'user_input.py' file contains comments to explain the use of this feature.\n",
    "\n",
    "This branch can be access with the command:\n",
    "\n",
    "`git checkout checkpointing`\n",
    "\n",
    "The main code can be reaccessed with the command:\n",
    "\n",
    "`git checkout main`\n"
   ]
  },
  {
   "attachments": {},
   "cell_type": "markdown",
   "id": "04717634",
   "metadata": {},
   "source": [
    "## Documentation for developers"
   ]
  },
  {
   "attachments": {},
   "cell_type": "markdown",
   "id": "cbd0a0c9",
   "metadata": {},
   "source": [
    "Full documentation of the code is available through Doxygen at https://hetsys.github.io/PX915_GroupB_22-23/."
   ]
  }
 ],
 "metadata": {
  "kernelspec": {
   "display_name": "Python 3 (ipykernel)",
   "language": "python",
   "name": "python3"
  },
  "language_info": {
   "codemirror_mode": {
    "name": "ipython",
    "version": 3
   },
   "file_extension": ".py",
   "mimetype": "text/x-python",
   "name": "python",
   "nbconvert_exporter": "python",
   "pygments_lexer": "ipython3",
   "version": "3.8.6"
  },
  "vscode": {
   "interpreter": {
    "hash": "51b06215ed98210fc1fe642b510ae9096dab467cb3c0fbda74c23da957c6d747"
   }
  }
 },
 "nbformat": 4,
 "nbformat_minor": 5
}
