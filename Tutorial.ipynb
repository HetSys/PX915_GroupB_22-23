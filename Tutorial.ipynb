{
 "cells": [
  {
   "cell_type": "markdown",
   "id": "2931370c",
   "metadata": {},
   "source": [
    "# Tutorial"
   ]
  },
  {
   "cell_type": "markdown",
   "id": "5e757995",
   "metadata": {},
   "source": [
    "This is a tutorial for using SPAMS - the Single Particle Model Solver.\n",
    "\n",
    "For more advanced features please see the full documentation.\n",
    "\n",
    "**Please note:** In this notebook code to be run in the command line is preceded by an exclamation mark - this is not needed if running the program outside of this notebook."
   ]
  },
  {
   "cell_type": "markdown",
   "id": "cbe9f0b3",
   "metadata": {},
   "source": [
    "## Dependencies"
   ]
  },
  {
   "cell_type": "markdown",
   "id": "152811fb",
   "metadata": {},
   "source": [
    "*If you have read the dependencies section of the readme on github you can skip this section!*\n",
    "\n",
    "In order to run the code (and this notebook), you will need to ensure you have the following installed:\n",
    "\n",
    "- intel/2017.4.196-GCC-6.4.0-2.28\n",
    "- impi/2017.3.196 imkl/2017.3.196\n",
    "- imkl/2017.3.196\n",
    "- netCDF-Fortran/4.4.4\n",
    "- GCC/10.2.0\n",
    "- Python/3.8.6\n",
    "- numpy\n",
    "- netCDF4\n",
    "- matplotlib\n",
    "\n",
    "\n",
    "For an scrtp managed system the following procedure will ensure correct dependendcies are installed:\n",
    "\n",
    "\n",
    "    module purge; module load intel/2017.4.196-GCC-6.4.0-2.28  impi/2017.3.196 imkl/2017.3.196 netCDF-Fortran/4.4.4 GCC/10.2.0 Python/3.8.6\n",
    "    pip3 install numpy netCDF4 Matplotlib\n"
   ]
  },
  {
   "cell_type": "markdown",
   "id": "1161615c",
   "metadata": {},
   "source": [
    "## Installing the code (downloading from git)"
   ]
  },
  {
   "cell_type": "markdown",
   "id": "3e18964e",
   "metadata": {},
   "source": [
    "To install SPAMS, navigate to the directory in your file system where you would like to download it, and use the following command:\n",
    "\n",
    "    git clone https://github.com/HetSys/PX915_GroupB_22-23"
   ]
  },
  {
   "cell_type": "markdown",
   "id": "119919ec",
   "metadata": {},
   "source": [
    "## Running the solver"
   ]
  },
  {
   "cell_type": "markdown",
   "id": "dc6c99bc",
   "metadata": {},
   "source": [
    "The first time you use the program after downloading it from github, you will need to compile it first. This can be done by navigating to the SPAMS directory and using the command"
   ]
  },
  {
   "cell_type": "code",
   "execution_count": 1,
   "id": "48f678f2",
   "metadata": {},
   "outputs": [
    {
     "name": "stdout",
     "output_type": "stream",
     "text": [
      "ifort `nf-config --fflags` -c nc_output.f90 -lnetcdf `nf-config --flibs`\n",
      "ifort -O3 -c read_inputs.f90\n",
      "ifort -O3 -c finite_diff_solver.f90\n",
      "ifort -O3 `nf-config --fflags` -DMKL read_inputs.o nc_output.o finite_diff_solver.o `nf-config --flibs` -Wl,--start-group /warwick/desktop/2018/software/MPI/intel/2017.4.196-GCC-6.4.0-2.28/impi/2017.3.196/imkl/2017.3.196/mkl/lib/intel64/libmkl_intel_lp64.a /warwick/desktop/2018/software/MPI/intel/2017.4.196-GCC-6.4.0-2.28/impi/2017.3.196/imkl/2017.3.196/mkl/lib/intel64/libmkl_intel_thread.a /warwick/desktop/2018/software/MPI/intel/2017.4.196-GCC-6.4.0-2.28/impi/2017.3.196/imkl/2017.3.196/mkl/lib/intel64/libmkl_core.a -Wl,--end-group -liomp5 -lpthread -lm -ldl -lnetcdf -o finite_diff_solver \n"
     ]
    }
   ],
   "source": [
    "! make"
   ]
  },
  {
   "cell_type": "markdown",
   "id": "1ddcb123",
   "metadata": {},
   "source": [
    "To run the program enter the following command:"
   ]
  },
  {
   "cell_type": "code",
   "execution_count": 3,
   "id": "0c1f75df",
   "metadata": {},
   "outputs": [
    {
     "name": "stdout",
     "output_type": "stream",
     "text": [
      "User input successful, calling solver...\n",
      " Success writing output file, user_input_output.nc                              \n",
      "     \n",
      "\n",
      "Solver executed successfully, plotting output...\n"
     ]
    }
   ],
   "source": [
    "! python3 user_input.py"
   ]
  },
  {
   "cell_type": "markdown",
   "id": "025b87c1",
   "metadata": {},
   "source": [
    "## A simple input file"
   ]
  },
  {
   "cell_type": "markdown",
   "id": "23d6d998",
   "metadata": {},
   "source": [
    "In order to use solver parameters specific to your system, you will need to edit the user input file.\n",
    "\n",
    "In the main directory locate the file called 'user_input.py' and open it with your preferred text editor.\n",
    "\n",
    "Here, we will go through the main parts of this input file line by line."
   ]
  },
  {
   "cell_type": "markdown",
   "id": "edd220af",
   "metadata": {},
   "source": [
    "### Input file name"
   ]
  },
  {
   "cell_type": "markdown",
   "id": "36735f82",
   "metadata": {},
   "source": [
    "The default name for the input file is 'user_input', this can be changed if desired. You do not need to add a file extension, and there is a characters limit of 50.\n",
    "\n",
    "*Please note changing this filename will change the command required to run the solver.*"
   ]
  },
  {
   "cell_type": "code",
   "execution_count": 1,
   "id": "cef968c0",
   "metadata": {},
   "outputs": [],
   "source": [
    "# Change the name of this of this file containing the user input parameters.\n",
    "solver_input_filename = 'user_input'"
   ]
  },
  {
   "cell_type": "markdown",
   "id": "2af1b8e5",
   "metadata": {},
   "source": [
    "### Input Parameters \n",
    "\n",
    "Below, is a list of all available input parameters, along with their default values."
   ]
  },
  {
   "cell_type": "markdown",
   "id": "8a0a19c5",
   "metadata": {},
   "source": [
    "- **tsteps**: The total number of timesteps for which the simulation is run. This must be an integer value greater than 0, (default = 100). \n",
    "*Do not change this if reading iapp from file.*\n",
    "\n",
    "- **dt**: The size of the timestep size in seconds. This must be a float with a value greater than 0 (default = 0.1).\n",
    "\n",
    "- **c0**: Sets the initial concentration in mol m<sup>-3</sup>, This must be a float with a value greater than 0 (default = 0.0).\n",
    "\n",
    "- **D**: The diffusion constant in m<sup>2</sup> s<sup>-1</sup>. This must be a float (default = 4.0e-15).\n",
    "\n",
    "- **R**: The radius of the sphere used in the SPM in m. This must be a float with a value greater than 0 (default = 5.86e-6).\n",
    "\n",
    "- **a**: Particle surface area per unit volume (m<sup>-1</sup>). This must be a float with a value greater than or equal to 0.\n",
    "\n",
    "- **L**: Electrode thickness in meters. This must be a float with a value greater than or equal to 0 (default = 75.6e-6).\n",
    "\n",
    "- **iapp**: Applied current density in A m<sup>2</sup>. This must be a 1D array of floats of length tsteps. The default sets a constant current density of 0.73*10<sup>-3</sup>.\n",
    "\n",
    "- **iapp_label**: Labels the type of applied current density, e.g. constant or from file string.\n",
    "\n",
    "- **electrode_charge**: Label of electrode charge as positive or negative. (default = p for positive electrode, n for negative electrode)."
   ]
  },
  {
   "cell_type": "markdown",
   "id": "a3c72bef",
   "metadata": {},
   "source": [
    "### Setting parameters"
   ]
  },
  {
   "cell_type": "markdown",
   "id": "e38a9c73",
   "metadata": {},
   "source": [
    "For setting system parameters there are two main options:\n",
    "\n",
    "1. You can use the default parameters for a positive or negative electrode by calling UI.set_defaults_pos() or UI.set_defaults_neg()."
   ]
  },
  {
   "cell_type": "code",
   "execution_count": null,
   "id": "85f75c1e",
   "metadata": {},
   "outputs": [],
   "source": [
    "# Import default values\n",
    "tsteps, dt, c0, D, R, a, L, iapp, iapp_label, electrode_charge = UI.set_defaults_pos()"
   ]
  },
  {
   "cell_type": "markdown",
   "id": "ff6035d8",
   "metadata": {},
   "source": [
    "2. You can manually set each of the parameters. \n",
    "\n",
    "    The block of code below can be used in place of importing the default values."
   ]
  },
  {
   "cell_type": "code",
   "execution_count": null,
   "id": "b43cf5ac",
   "metadata": {},
   "outputs": [],
   "source": [
    "# Number of timesteps, integer, greater than 0. Do not change if read iapp from file.\n",
    "tsteps = 100\n",
    "# Timestep size (s), real, greater than 0\n",
    "dt = 0.1\n",
    "# Initial concentration (mol m**-3), real, positive\n",
    "c0 = 0.0\n",
    "# Diffusion coefficient (m**2 s**-1), real\n",
    "D = 4.0e-15\n",
    "# Width of block (m), real, greater than 0\n",
    "R = 5.86e-6\n",
    "# Particle surface area per unit volume (m**-1), real, greater than 0\n",
    "a = 3.821839e5\n",
    "# Electrode thickness (m), real, greater than 0\n",
    "L = 85.2e-6"
   ]
  },
  {
   "cell_type": "markdown",
   "id": "00a3d666",
   "metadata": {},
   "source": [
    "#### Applying current"
   ]
  },
  {
   "cell_type": "markdown",
   "id": "290f8d1f",
   "metadata": {},
   "source": [
    "For varying the applied current density (i<sub>app</sub>) there are the following additional options:\n",
    "\n",
    "1. The i<sub>app</sub> values can be read in from a csv file called 'iapp_filename'. This is the default setting in user_input.py (a default csv file is provided).\n"
   ]
  },
  {
   "cell_type": "code",
   "execution_count": null,
   "id": "5a13edc3",
   "metadata": {},
   "outputs": [],
   "source": [
    "# Read in applied current density from csv file\n",
    "iapp_filename = 'WLTP_m10.csv'\n",
    "iapp, iapp_label, tsteps = UI.iapp_read_csv(iapp_filename)"
   ]
  },
  {
   "cell_type": "markdown",
   "id": "eae568a2",
   "metadata": {},
   "source": [
    "2. You can set a constant value for current density, 'iapp_const', by replacing the default csv file code with the code below."
   ]
  },
  {
   "cell_type": "code",
   "execution_count": null,
   "id": "8445591c",
   "metadata": {},
   "outputs": [],
   "source": [
    "# Constant current - set iapp_const to a constant float value.\n",
    "iapp_const = 0.73*10**(-3)\n",
    "iapp, iapp_label = UI.iapp_constant_setup(tsteps, iapp_const)"
   ]
  },
  {
   "cell_type": "markdown",
   "id": "8a71428c",
   "metadata": {},
   "source": [
    "3. You can set a stepped current density, 'iapp_steps', from a 2D array of values and timesteps using the code below."
   ]
  },
  {
   "cell_type": "code",
   "execution_count": null,
   "id": "bde7d071",
   "metadata": {},
   "outputs": [],
   "source": [
    "# Step function - create 2D array of step values and integer timesteps starting at timestep 0\n",
    "iapp_steps = [[0.73*10**(-3), 0], [-0.73*10**(-3), int(tsteps/4)], [0.73*10**(-3), int(tsteps/2)]]\n",
    "iapp, iapp_label = UI.iapp_step_setup(tsteps, iapp_steps)"
   ]
  },
  {
   "cell_type": "markdown",
   "id": "586f9baa",
   "metadata": {},
   "source": [
    "4. A final option is to manually set the i<sub>app</sub> values,\n",
    "(i<sub>app</sub> must be an array of floats with a length of tsteps.)"
   ]
  },
  {
   "cell_type": "code",
   "execution_count": null,
   "id": "1248d1f8",
   "metadata": {},
   "outputs": [],
   "source": [
    "###### Manually set up applied current ######\n",
    "### Applied current (A m**2), real array of length tsteps"
   ]
  },
  {
   "cell_type": "markdown",
   "id": "b76b5bb2",
   "metadata": {},
   "source": [
    "## Visualising Results"
   ]
  },
  {
   "cell_type": "markdown",
   "id": "f6d1764c",
   "metadata": {},
   "source": [
    "Any instuctions on non default visualisation should go here"
   ]
  },
  {
   "cell_type": "code",
   "execution_count": null,
   "id": "734ddd83",
   "metadata": {},
   "outputs": [],
   "source": [
    "# Example plot"
   ]
  },
  {
   "cell_type": "markdown",
   "id": "37357f09",
   "metadata": {},
   "source": [
    "## Checkpointing"
   ]
  },
  {
   "cell_type": "markdown",
   "id": "ae5a2cbb",
   "metadata": {},
   "source": [
    "Information on how to restart from a checkpoint should go here"
   ]
  },
  {
   "cell_type": "markdown",
   "id": "643538bd",
   "metadata": {},
   "source": [
    "## More advanced features"
   ]
  },
  {
   "cell_type": "markdown",
   "id": "cf75939b",
   "metadata": {},
   "source": [
    "parallelisation?"
   ]
  },
  {
   "cell_type": "markdown",
   "id": "04717634",
   "metadata": {},
   "source": [
    "## Documentation for developers"
   ]
  },
  {
   "cell_type": "markdown",
   "id": "cbd0a0c9",
   "metadata": {},
   "source": [
    "Full documentation of the code is available on doxygen via..."
   ]
  }
 ],
 "metadata": {
  "kernelspec": {
   "display_name": "Python 3.7.11 ('base': conda)",
   "language": "python",
   "name": "python3"
  },
  "language_info": {
   "codemirror_mode": {
    "name": "ipython",
    "version": 3
   },
   "file_extension": ".py",
   "mimetype": "text/x-python",
   "name": "python",
   "nbconvert_exporter": "python",
   "pygments_lexer": "ipython3",
   "version": "3.7.11"
  },
  "vscode": {
   "interpreter": {
    "hash": "51b06215ed98210fc1fe642b510ae9096dab467cb3c0fbda74c23da957c6d747"
   }
  }
 },
 "nbformat": 4,
 "nbformat_minor": 5
}
