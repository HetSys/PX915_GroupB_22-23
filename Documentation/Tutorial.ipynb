{
 "cells": [
  {
   "cell_type": "markdown",
   "id": "2931370c",
   "metadata": {},
   "source": [
    "# Tutorial"
   ]
  },
  {
   "cell_type": "markdown",
   "id": "5e757995",
   "metadata": {},
   "source": [
    "This is a tutorial for the solver."
   ]
  },
  {
   "cell_type": "markdown",
   "id": "cbe9f0b3",
   "metadata": {},
   "source": [
    "## Dependencies"
   ]
  },
  {
   "cell_type": "markdown",
   "id": "152811fb",
   "metadata": {},
   "source": [
    "Insert list of all required modules"
   ]
  },
  {
   "cell_type": "markdown",
   "id": "1161615c",
   "metadata": {},
   "source": [
    "## Installing the code"
   ]
  },
  {
   "cell_type": "markdown",
   "id": "3e18964e",
   "metadata": {},
   "source": [
    "Insert instructions for installing the code."
   ]
  },
  {
   "cell_type": "markdown",
   "id": "119919ec",
   "metadata": {},
   "source": [
    "## Running the code"
   ]
  },
  {
   "cell_type": "markdown",
   "id": "fefa0522",
   "metadata": {},
   "source": [
    "Insert instructions for building/running the code."
   ]
  },
  {
   "cell_type": "markdown",
   "id": "025b87c1",
   "metadata": {},
   "source": [
    "## A simple input file"
   ]
  },
  {
   "cell_type": "markdown",
   "id": "23d6d998",
   "metadata": {},
   "source": [
    "Insert instructions on user input."
   ]
  },
  {
   "cell_type": "code",
   "execution_count": 1,
   "id": "8916ff72",
   "metadata": {},
   "outputs": [],
   "source": [
    "#Example input code"
   ]
  },
  {
   "cell_type": "markdown",
   "id": "7cb98c72",
   "metadata": {},
   "source": [
    "## Running the solver"
   ]
  },
  {
   "cell_type": "markdown",
   "id": "3665c244",
   "metadata": {},
   "source": [
    "Insert instructions on running the solver"
   ]
  },
  {
   "cell_type": "code",
   "execution_count": 2,
   "id": "778a34f3",
   "metadata": {},
   "outputs": [],
   "source": [
    "#Example code"
   ]
  },
  {
   "cell_type": "markdown",
   "id": "b76b5bb2",
   "metadata": {},
   "source": [
    "## Visualising Results"
   ]
  },
  {
   "cell_type": "markdown",
   "id": "f6d1764c",
   "metadata": {},
   "source": [
    "Insert instructions on visualisation"
   ]
  },
  {
   "cell_type": "code",
   "execution_count": 3,
   "id": "734ddd83",
   "metadata": {},
   "outputs": [],
   "source": [
    "# Example plot"
   ]
  },
  {
   "cell_type": "markdown",
   "id": "643538bd",
   "metadata": {},
   "source": [
    "## More advanced features"
   ]
  },
  {
   "cell_type": "code",
   "execution_count": null,
   "id": "cf75939b",
   "metadata": {},
   "outputs": [],
   "source": []
  }
 ],
 "metadata": {
  "kernelspec": {
   "display_name": "Python 3 (ipykernel)",
   "language": "python",
   "name": "python3"
  },
  "language_info": {
   "codemirror_mode": {
    "name": "ipython",
    "version": 3
   },
   "file_extension": ".py",
   "mimetype": "text/x-python",
   "name": "python",
   "nbconvert_exporter": "python",
   "pygments_lexer": "ipython3",
   "version": "3.8.6"
  }
 },
 "nbformat": 4,
 "nbformat_minor": 5
}
