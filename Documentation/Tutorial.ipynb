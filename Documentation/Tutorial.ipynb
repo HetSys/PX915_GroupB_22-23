{
 "cells": [
  {
   "cell_type": "markdown",
   "id": "2931370c",
   "metadata": {},
   "source": [
    "# Tutorial"
   ]
  },
  {
   "cell_type": "markdown",
   "id": "5e757995",
   "metadata": {},
   "source": [
    "This is a tutorial for using SPAMS to solve a simple problem....\n",
    "\n",
    "For more advanced features please see the full documentation."
   ]
  },
  {
   "cell_type": "markdown",
   "id": "cbe9f0b3",
   "metadata": {},
   "source": [
    "## Dependencies"
   ]
  },
  {
   "cell_type": "markdown",
   "id": "152811fb",
   "metadata": {},
   "source": [
    "In order to run the code, your system will need the following:\n",
    "\n",
    "- GCC/10.x\n",
    "- OpenMPI/4.x\n",
    "- shlex\n",
    "- Python/3.8.x\n",
    "- Numpy\n",
    "- Matplotlib\n",
    "- netCDF4\n",
    "- inset further modules here\n",
    "\n",
    "If using an SCRTP managed system, you can use tehthe following commands to ensure the correct requirements:\n",
    "\n",
    "First purge your currently loaded modules to ensure there will be no clashes using\n",
    "\n",
    "    module purge\n",
    "\n",
    "Now load the required modules using\n",
    "\n",
    "    module load GCC/10.x OpenMPI/4.x Python/3.8.x "
   ]
  },
  {
   "cell_type": "markdown",
   "id": "1161615c",
   "metadata": {},
   "source": [
    "## Installing the code (dowloading from git)"
   ]
  },
  {
   "cell_type": "markdown",
   "id": "3e18964e",
   "metadata": {},
   "source": [
    "To install SPAMS, navigate to the directory in your file system where you would like to download it, and use the following command:\n",
    "\n",
    "    git clone https://github.com/HetSys/PX915_GroupB_22-23"
   ]
  },
  {
   "cell_type": "markdown",
   "id": "119919ec",
   "metadata": {},
   "source": [
    "## Running the code"
   ]
  },
  {
   "cell_type": "markdown",
   "id": "bb90a20e",
   "metadata": {},
   "source": [
    "A makefile is included, so to compile the code, simply use the 'make' command from within the SPAMS directory.\n",
    "\n",
    "To test the code is running correctly, you can run the solver with the default parameters using the command\n",
    "\n",
    "    python3 user_input.py\n",
    "\n",
    "This should produce two outputs:\n",
    "\n",
    "Firstly, a plot of the concentration profile at the end of the simulation (shown below), and secondly an animation showing the concentration across time.\n",
    "\n",
    "![fig1](Figure_1.png)"
   ]
  },
  {
   "cell_type": "markdown",
   "id": "025b87c1",
   "metadata": {},
   "source": [
    "## The input file"
   ]
  },
  {
   "cell_type": "markdown",
   "id": "23d6d998",
   "metadata": {},
   "source": [
    "Here, we will go through the key parts of the input file that you will need to edit in order to run the solver for your specific system. \n",
    "\n",
    "Here is a explanation of how to find, open and edit the input file."
   ]
  },
  {
   "cell_type": "markdown",
   "id": "36735f82",
   "metadata": {},
   "source": [
    "The default name for the file is 'user_input', this can be changed if desired.\n",
    "\n",
    "*Please note this will change the command required to run the solver.*"
   ]
  },
  {
   "cell_type": "code",
   "execution_count": null,
   "id": "cef968c0",
   "metadata": {},
   "outputs": [],
   "source": [
    "###### Set filename to output user input parameters ######\n",
    "# Set string for filename. Do not enter a file extension. Max characters = 50\n",
    "output_filename = 'user_input'"
   ]
  },
  {
   "cell_type": "markdown",
   "id": "e38a9c73",
   "metadata": {},
   "source": [
    "Here, you can input the parameters of your system."
   ]
  },
  {
   "cell_type": "code",
   "execution_count": null,
   "id": "8916ff72",
   "metadata": {},
   "outputs": [],
   "source": [
    "# Number of timesteps, integer, greater than 0. Do not change if read iapp from file.\n",
    "#tsteps = 100\n",
    "# Timestep size (s), real, greater than 0\n",
    "dt = 0.1\n",
    "# Initial concentration (mol m**-3), real, positive\n",
    "c0 = 0.0\n",
    "# Diffusion coefficient (m**2 s**-1), real\n",
    "D = 4.0e-15\n",
    "# Width of block (m), real, greater than 0\n",
    "R = 5.86e-6\n",
    "# Particle surface area per unit volume (m**-1), real, greater than 0\n",
    "a = 3.821839e5\n",
    "# Electrode thickness (m), real, greater than 0\n",
    "L = 85.2e-6"
   ]
  },
  {
   "cell_type": "markdown",
   "id": "dc8373c4",
   "metadata": {},
   "source": [
    "Now you can choose how to apply current top the system."
   ]
  },
  {
   "cell_type": "code",
   "execution_count": null,
   "id": "1248d1f8",
   "metadata": {},
   "outputs": [],
   "source": [
    "###### Manually set up applied current ######\n",
    "### Applied current (A m**2), real array of length tsteps\n",
    "\n",
    "### Constant current\n",
    "### Set iapp_const as constant float value\n",
    "#iapp_const = 0.73*10**(-3)\n",
    "#iapp, iapp_label = UI.iapp_constant_setup(tsteps, iapp_const)\n",
    "\n",
    "### Step function\n",
    "### Create 2D array of step values and timesteps where step occurs, starting timestep 0\n",
    "### Timesteps must be integers\n",
    "#iapp_steps = [[0.73*10**(-3), 0], [-0.73*10**(-3), int(tsteps/4)], [0.73*10**(-3), int(tsteps/2)]]\n",
    "#iapp, iapp_label = UI.iapp_step_setup(tsteps, iapp_steps)"
   ]
  },
  {
   "cell_type": "markdown",
   "id": "7cb98c72",
   "metadata": {},
   "source": [
    "## Running the solver"
   ]
  },
  {
   "cell_type": "markdown",
   "id": "3665c244",
   "metadata": {},
   "source": [
    "To run the solver, navigate to the directory containing your files and enter the following command into the command line\n",
    "\n",
    "    python3 user_input.py"
   ]
  },
  {
   "cell_type": "markdown",
   "id": "b76b5bb2",
   "metadata": {},
   "source": [
    "## Visualising Results"
   ]
  },
  {
   "cell_type": "markdown",
   "id": "f6d1764c",
   "metadata": {},
   "source": [
    "Insert instructions on visualisation (Jake feel free to help with this part)"
   ]
  },
  {
   "cell_type": "code",
   "execution_count": 3,
   "id": "734ddd83",
   "metadata": {},
   "outputs": [],
   "source": [
    "# Example plot"
   ]
  },
  {
   "cell_type": "markdown",
   "id": "643538bd",
   "metadata": {},
   "source": [
    "## More advanced features"
   ]
  },
  {
   "cell_type": "code",
   "execution_count": null,
   "id": "cf75939b",
   "metadata": {},
   "outputs": [],
   "source": []
  }
 ],
 "metadata": {
  "kernelspec": {
   "display_name": "Python 3 (ipykernel)",
   "language": "python",
   "name": "python3"
  },
  "language_info": {
   "codemirror_mode": {
    "name": "ipython",
    "version": 3
   },
   "file_extension": ".py",
   "mimetype": "text/x-python",
   "name": "python",
   "nbconvert_exporter": "python",
   "pygments_lexer": "ipython3",
   "version": "3.8.6"
  }
 },
 "nbformat": 4,
 "nbformat_minor": 5
}
