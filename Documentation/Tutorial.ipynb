{
 "cells": [
  {
   "cell_type": "markdown",
   "id": "2931370c",
   "metadata": {},
   "source": [
    "# Tutorial"
   ]
  },
  {
   "cell_type": "markdown",
   "id": "5e757995",
   "metadata": {},
   "source": [
    "This is a tutorial for using SPAMS - the Single Particle Model Solver.\n",
    "\n",
    "For more advanced features please see the full documentation."
   ]
  },
  {
   "cell_type": "markdown",
   "id": "cbe9f0b3",
   "metadata": {},
   "source": [
    "## Dependencies"
   ]
  },
  {
   "cell_type": "markdown",
   "id": "152811fb",
   "metadata": {},
   "source": [
    "In order to run the code, your system will need the following:\n",
    "\n",
    "- GCC/10.2.0\n",
    "- OpenMPI/4.0.5\n",
    "- Python/3.8.6\n",
    "- netCDF4-Fortran/4.4.4\n",
    "- Numpy\n",
    "- Matplotlib\n",
    "\n",
    "If using an SCRTP managed system, you can use the following commands to ensure the correct requirements:\n",
    "\n",
    "First purge your currently loaded modules to ensure there will be no clashes using\n",
    "\n",
    "    module purge\n",
    "\n",
    "Now load the required modules using\n",
    "\n",
    "    module load GCC/10.2.0 OpenMPI/4.0.5 Python/3.8.6 netCDF-Fortran/4.4.4"
   ]
  },
  {
   "cell_type": "markdown",
   "id": "1161615c",
   "metadata": {},
   "source": [
    "## Installing the code (dowloading from git)"
   ]
  },
  {
   "cell_type": "markdown",
   "id": "3e18964e",
   "metadata": {},
   "source": [
    "To install SPAMS, navigate to the directory in your file system where you would like to download it, and use the following command:\n",
    "\n",
    "    git clone https://github.com/HetSys/PX915_GroupB_22-23"
   ]
  },
  {
   "cell_type": "markdown",
   "id": "119919ec",
   "metadata": {},
   "source": [
    "## Running the solver"
   ]
  },
  {
   "cell_type": "markdown",
   "id": "bb90a20e",
   "metadata": {},
   "source": [
    "A makefile is included, so to compile the code, navigate to the SPAMS directory and use the command\n",
    "\n",
    "    make\n",
    "\n",
    "*Once the code is compiled you do not need to do this step again*\n",
    "\n",
    "\\\n",
    "The solver can now be run with the default parameters using the command\n",
    "\n",
    "    python3 user_input.py\n",
    "\n",
    "This should produce two outputs:\n",
    "\n",
    "Firstly, a plot of the concentration profile at the end of the simulation (shown below), and secondly an animation showing the concentration across time.\n",
    "\n",
    "\\\n",
    "![fig1](Figure_1.png)"
   ]
  },
  {
   "cell_type": "markdown",
   "id": "025b87c1",
   "metadata": {},
   "source": [
    "## The input file"
   ]
  },
  {
   "cell_type": "markdown",
   "id": "23d6d998",
   "metadata": {},
   "source": [
    "In order to modify the solver parameters to those of your specific system, you will need to edit the user input file.\n",
    "\n",
    "From the downloaded SPAMS directory, locate the file name 'user_input.py and open it with your preferred text editor.\n",
    "\n",
    "Here, we will go through the input file options line by line."
   ]
  },
  {
   "cell_type": "markdown",
   "id": "edd220af",
   "metadata": {},
   "source": [
    "#### Input file name"
   ]
  },
  {
   "cell_type": "markdown",
   "id": "36735f82",
   "metadata": {},
   "source": [
    "The default name for the file is 'user_input', this can be changed if desired.\n",
    "\n",
    "*Please note this will change the command required to run the solver.*"
   ]
  },
  {
   "cell_type": "code",
   "execution_count": null,
   "id": "cef968c0",
   "metadata": {},
   "outputs": [],
   "source": [
    "###### Set filename to output user input parameters ######\n",
    "# Set string for filename. Do not enter a file extension. Max characters = 50\n",
    "output_filename = 'user_input'"
   ]
  },
  {
   "cell_type": "markdown",
   "id": "2af1b8e5",
   "metadata": {},
   "source": [
    "#### Input Parameters \n",
    "\n",
    "Below, is a list of all available input parameters, along with their default values."
   ]
  },
  {
   "cell_type": "markdown",
   "id": "8a0a19c5",
   "metadata": {},
   "source": [
    "- **tsteps**: The total number of timesteps for which the simulation is run. This must be an integer value greater than 0, (default = 100). \n",
    "*Do not change this if reading iapp from file.*\n",
    "\n",
    "- **dt**: The size of the timestep size in seconds. This must be a float with a value greater than 0 (default = 0.1).\n",
    "\n",
    "- **c0**: Sets the initial concentration in mol m<sup>-3</sup>, This must be a float with a value greater than 0 (default = 0.0).\n",
    "\n",
    "- **D**: The diffusion constant in m<sup>2</sup> s<sup>-1</sup>. This must be a float (default = 4.0e-15).\n",
    "\n",
    "- **R**: Width of the block in meters. This must be a float with a value greater than 0 (default = 5.86e-6).\n",
    "\n",
    "- **a**: Particle surface area per unit volume (m<sup>-1</sup>). This must be a float with a value greater than or equal to 0.\n",
    "\n",
    "- **L**: Electrode thickness in meters. This must be a float with a value greater than or equal to 0 (default = 75.6e-6).\n",
    "\n",
    "- **iapp**: Applied current density in A m<sup>2</sup>). This must be a 1D array of floats of length tsteps. The default sets a constant current density of 0.73*10<sup>-3</sup>.\n",
    "\n",
    "- **iapp_label**: Label of applied current density, string.\n",
    "\n",
    "- **electrode_charge**: Label of electrode charge as positive or negative. (default = p for positive electroe, n for negative electrode)."
   ]
  },
  {
   "cell_type": "markdown",
   "id": "a3c72bef",
   "metadata": {},
   "source": [
    "#### Editing the parameters"
   ]
  },
  {
   "cell_type": "markdown",
   "id": "e38a9c73",
   "metadata": {},
   "source": [
    "For setting system parameters there are two main options:\n",
    "\n",
    "1. You can use the default parameters for a positive or negative electrode by calling UI.set_defaults_pos() or UI.set_defaults_neg()."
   ]
  },
  {
   "cell_type": "code",
   "execution_count": null,
   "id": "85f75c1e",
   "metadata": {},
   "outputs": [],
   "source": [
    "# Import default values\n",
    "tsteps, dt, c0, D, R, a, L, iapp, iapp_label, electrode_charge = UI.set_defaults_pos()"
   ]
  },
  {
   "cell_type": "markdown",
   "id": "ff6035d8",
   "metadata": {},
   "source": [
    "2. You can manually set each of the parameters. \n",
    "\n",
    "The block of code shown below can be used in place importing the default values."
   ]
  },
  {
   "cell_type": "code",
   "execution_count": null,
   "id": "b43cf5ac",
   "metadata": {},
   "outputs": [],
   "source": [
    "# Number of timesteps, integer, greater than 0. Do not change if read iapp from file.\n",
    "#tsteps = 100\n",
    "# Timestep size (s), real, greater than 0\n",
    "dt = 0.1\n",
    "# Initial concentration (mol m**-3), real, positive\n",
    "c0 = 0.0\n",
    "# Diffusion coefficient (m**2 s**-1), real\n",
    "D = 4.0e-15\n",
    "# Width of block (m), real, greater than 0\n",
    "R = 5.86e-6\n",
    "# Particle surface area per unit volume (m**-1), real, greater than 0\n",
    "a = 3.821839e5\n",
    "# Electrode thickness (m), real, greater than 0\n",
    "L = 85.2e-6"
   ]
  },
  {
   "cell_type": "markdown",
   "id": "00a3d666",
   "metadata": {},
   "source": [
    "#### Applying current"
   ]
  },
  {
   "cell_type": "markdown",
   "id": "e5da6394",
   "metadata": {},
   "source": [
    "\n",
    "\n",
    "For varying the applied current density (iapp) there are the following additional options:\n",
    " \n",
    "- Iapp values can be read in from a csv file called 'iapp_filename' using: \n",
    "\n",
    "        iapp, iapp_label, tsteps = UI.iapp_read_csv(iapp_filename)\n",
    "    \n",
    "\n",
    "- A constant value for current density, 'iapp_const', can be set using: \n",
    "\n",
    "        iapp, iapp_label = UI.iapp_constant_setup(tsteps, iapp_const)\n",
    "\n",
    "- A stepped current density, 'iapp_steps', can be set from a 2D array of values and timesteps  using: \n",
    "\n",
    "        iapp, iapp_label = UI.iapp_step_setup(tsteps, iapp_steps)\n",
    "\n",
    "    *iapp_steps must be a 2D array of step values and timesteps, where steps occur starting at timestep 0, and timesteps must be integers.*\n",
    "\n",
    "- The iapp values can be manually set - iapp must be an array of floats with length tsteps."
   ]
  },
  {
   "cell_type": "markdown",
   "id": "5a5ca548",
   "metadata": {},
   "source": [
    "The default setting in 'user_input.py' reads in a csv file for applied current. Below example code is shown for the other methods of changing iapp."
   ]
  },
  {
   "cell_type": "code",
   "execution_count": null,
   "id": "1248d1f8",
   "metadata": {},
   "outputs": [],
   "source": [
    "###### Manually set up applied current ######\n",
    "### Applied current (A m**2), real array of length tsteps\n",
    "\n",
    "### Constant current\n",
    "### Set iapp_const as constant float value\n",
    "#iapp_const = 0.73*10**(-3)\n",
    "#iapp, iapp_label = UI.iapp_constant_setup(tsteps, iapp_const)\n",
    "\n",
    "### Step function\n",
    "### Create 2D array of step values and timesteps where step occurs, starting timestep 0\n",
    "### Timesteps must be integers\n",
    "#iapp_steps = [[0.73*10**(-3), 0], [-0.73*10**(-3), int(tsteps/4)], [0.73*10**(-3), int(tsteps/2)]]\n",
    "#iapp, iapp_label = UI.iapp_step_setup(tsteps, iapp_steps)"
   ]
  },
  {
   "cell_type": "markdown",
   "id": "b76b5bb2",
   "metadata": {},
   "source": [
    "## Visualising Results"
   ]
  },
  {
   "cell_type": "markdown",
   "id": "f6d1764c",
   "metadata": {},
   "source": [
    "Any instuctions on non default visualisation should go here"
   ]
  },
  {
   "cell_type": "code",
   "execution_count": 3,
   "id": "734ddd83",
   "metadata": {},
   "outputs": [],
   "source": [
    "# Example plot"
   ]
  },
  {
   "cell_type": "markdown",
   "id": "37357f09",
   "metadata": {},
   "source": [
    "## Checkpointing"
   ]
  },
  {
   "cell_type": "markdown",
   "id": "ae5a2cbb",
   "metadata": {},
   "source": [
    "Information on how to restart from a checkpoint should go here"
   ]
  },
  {
   "cell_type": "markdown",
   "id": "643538bd",
   "metadata": {},
   "source": [
    "## More advanced features"
   ]
  },
  {
   "cell_type": "markdown",
   "id": "cf75939b",
   "metadata": {},
   "source": [
    "parallelisation?"
   ]
  },
  {
   "cell_type": "markdown",
   "id": "04717634",
   "metadata": {},
   "source": [
    "## Documentation for developers"
   ]
  },
  {
   "cell_type": "markdown",
   "id": "cbd0a0c9",
   "metadata": {},
   "source": [
    "Full documentation of the code is available on doxygen via..."
   ]
  }
 ],
 "metadata": {
  "kernelspec": {
   "display_name": "Python 3 (ipykernel)",
   "language": "python",
   "name": "python3"
  },
  "language_info": {
   "codemirror_mode": {
    "name": "ipython",
    "version": 3
   },
   "file_extension": ".py",
   "mimetype": "text/x-python",
   "name": "python",
   "nbconvert_exporter": "python",
   "pygments_lexer": "ipython3",
   "version": "3.8.6"
  }
 },
 "nbformat": 4,
 "nbformat_minor": 5
}
